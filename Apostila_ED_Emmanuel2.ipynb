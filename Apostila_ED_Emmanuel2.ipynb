{
  "nbformat": 4,
  "nbformat_minor": 0,
  "metadata": {
    "colab": {
      "provenance": [],
      "authorship_tag": "ABX9TyPO0Ehy65oFxlHT+4TsyT8y",
      "include_colab_link": true
    },
    "kernelspec": {
      "name": "python3",
      "display_name": "Python 3"
    },
    "language_info": {
      "name": "python"
    }
  },
  "cells": [
    {
      "cell_type": "markdown",
      "metadata": {
        "id": "view-in-github",
        "colab_type": "text"
      },
      "source": [
        "<a href=\"https://colab.research.google.com/github/Parzivallx/Estrutura_de_Dados_2/blob/main/Apostila_ED_Emmanuel2.ipynb\" target=\"_parent\"><img src=\"https://colab.research.google.com/assets/colab-badge.svg\" alt=\"Open In Colab\"/></a>"
      ]
    },
    {
      "cell_type": "markdown",
      "source": [
        "##PRIMEIRA ATIVIDADE\n",
        "AULA DIA: 25/02/2025 ✅"
      ],
      "metadata": {
        "id": "ChkY8I0OMRWx"
      }
    },
    {
      "cell_type": "markdown",
      "source": [
        "\n",
        "#7.1 Listas\n",
        "Podem ser atribuídas usando colchetes:"
      ],
      "metadata": {
        "id": "EueWwuJfbEkK"
      }
    },
    {
      "cell_type": "code",
      "source": [
        " x = [10, 5, 11, 0, 3]\n",
        " x\n",
        "[10, 5, 11, 0, 3]"
      ],
      "metadata": {
        "colab": {
          "base_uri": "https://localhost:8080/"
        },
        "id": "_NQ2QICPbFmx",
        "outputId": "0f44374e-c1d9-4264-9694-3c5efda7d901"
      },
      "execution_count": null,
      "outputs": [
        {
          "output_type": "execute_result",
          "data": {
            "text/plain": [
              "[10, 5, 11, 0, 3]"
            ]
          },
          "metadata": {},
          "execution_count": 1
        }
      ]
    },
    {
      "cell_type": "code",
      "source": [
        " x[0]\n",
        "10\n",
        " x[4]\n",
        "3"
      ],
      "metadata": {
        "colab": {
          "base_uri": "https://localhost:8080/"
        },
        "id": "8r384jMUcyci",
        "outputId": "fce68d75-8445-42c4-dacd-6bcb4a339137"
      },
      "execution_count": null,
      "outputs": [
        {
          "output_type": "execute_result",
          "data": {
            "text/plain": [
              "3"
            ]
          },
          "metadata": {},
          "execution_count": 2
        }
      ]
    },
    {
      "cell_type": "code",
      "source": [
        " L = [1, 4.5, 'abc', 3 + 4j, [1, 2, 3, 4]]\n",
        " L[2] = 5\n",
        " L[4] = 5\n",
        " L\n",
        "[1, 4.5, 5, (3+4j), 5]\n"
      ],
      "metadata": {
        "colab": {
          "base_uri": "https://localhost:8080/"
        },
        "id": "VrgDJskzc1HK",
        "outputId": "5fdccbd3-403d-430b-ba7c-c6f75d7f4b95"
      },
      "execution_count": null,
      "outputs": [
        {
          "output_type": "execute_result",
          "data": {
            "text/plain": [
              "[1, 4.5, 5, (3+4j), 5]"
            ]
          },
          "metadata": {},
          "execution_count": 4
        }
      ]
    },
    {
      "cell_type": "code",
      "source": [
        " A = [1, 2, 3]; B = [4, 5, 6]\n",
        " C = A + B\n",
        " C\n",
        "[1, 2, 3, 4, 5, 6]\n",
        " C += [7] #equivale a C = C + [7]\n",
        " C\n",
        "[1, 2, 3, 4, 5, 6, 7]\n",
        " C.append('abc')\n",
        " C\n",
        "[1, 2, 3, 4, 5, 6, 7, 'abc']\n"
      ],
      "metadata": {
        "colab": {
          "base_uri": "https://localhost:8080/"
        },
        "id": "1i893AJwc9i6",
        "outputId": "70306377-f8cc-49bc-c1d7-207fc52ae3dd"
      },
      "execution_count": null,
      "outputs": [
        {
          "output_type": "execute_result",
          "data": {
            "text/plain": [
              "[1, 2, 3, 4, 5, 6, 7, 'abc']"
            ]
          },
          "metadata": {},
          "execution_count": 7
        }
      ]
    },
    {
      "cell_type": "code",
      "source": [
        " L = [ 1, 4.5, 'abc', 3 + 4j, [1, 2, 3, 4]]\n",
        " L\n",
        "[1, 4.5, 'abc', (3+4j), [1, 2, 3, 4]]\n",
        " L[4]\n",
        "[1, 2, 3, 4]\n"
      ],
      "metadata": {
        "colab": {
          "base_uri": "https://localhost:8080/"
        },
        "id": "f3EwaaTJdFSy",
        "outputId": "0ca4cb24-6769-4339-d5ee-133b4821cae8"
      },
      "execution_count": null,
      "outputs": [
        {
          "output_type": "execute_result",
          "data": {
            "text/plain": [
              "[1, 2, 3, 4]"
            ]
          },
          "metadata": {},
          "execution_count": 8
        }
      ]
    },
    {
      "cell_type": "markdown",
      "source": [
        "#7.1.1 Funções\n",
        "O comando dir(list) retorna os atributos e métodos das listas."
      ],
      "metadata": {
        "id": "JYVuL-VVdLoy"
      }
    },
    {
      "cell_type": "markdown",
      "source": [
        ">>> dir(list)\n",
        "[’__add__’, ’__class__’, ’__contains__’, ’__delattr__’,\n",
        "’__delitem__’, ’__dir__’, ’__doc__’, ’__eq__’,\n",
        "’__format__’, ’__ge__’, ’__getattribute__’,\n",
        "’__getitem__’, ’__gt__’, ’__hash__’, ’__iadd__’,’__imul__’, ’__init__’, ’__init_subclass__’,\n",
        "’__iter__’, ’__le__’, ’__len__’, ’__lt__’, ’__mul__’,\n",
        "’__ne__’, ’__new__’, ’__reduce__’, ’__reduce_ex__’,\n",
        "’__repr__’, ’__reversed__’, ’__rmul__’, ’__setattr__’,\n",
        "’__setitem__’, ’__sizeof__’, ’__str__’,\n",
        "’__subclasshook__’, ’append’, ’clear’, ’copy’, ’count’,\n",
        "’extend’, ’index’, ’insert’, ’pop’, ’remove’,\n",
        "’reverse’, ’sort’]\n"
      ],
      "metadata": {
        "id": "2msn7AsxdlZa"
      }
    },
    {
      "cell_type": "code",
      "source": [
        "#append() Adiciona elementos a lista:\n",
        "x = [1, 2, 3]\n",
        "x.append (4)\n",
        "x"
      ],
      "metadata": {
        "colab": {
          "base_uri": "https://localhost:8080/"
        },
        "id": "vxCYemntdriT",
        "outputId": "539cbf70-b757-4a6a-df10-3400a3d0bd4f"
      },
      "execution_count": null,
      "outputs": [
        {
          "output_type": "execute_result",
          "data": {
            "text/plain": [
              "[1, 2, 3, 4]"
            ]
          },
          "metadata": {},
          "execution_count": 21
        }
      ]
    },
    {
      "cell_type": "code",
      "source": [
        "#clear() Esvazia a lista:\n",
        "x =[1, 2, 3]\n",
        "x.clear()\n",
        "x"
      ],
      "metadata": {
        "colab": {
          "base_uri": "https://localhost:8080/"
        },
        "id": "_M4qX2Bxec98",
        "outputId": "4ec22909-3fdf-4808-cce7-3ead5de51ad7"
      },
      "execution_count": 2,
      "outputs": [
        {
          "output_type": "execute_result",
          "data": {
            "text/plain": [
              "[]"
            ]
          },
          "metadata": {},
          "execution_count": 2
        }
      ]
    },
    {
      "cell_type": "code",
      "source": [
        "#count() Retorna quantas ocorrências há do argumento passado:\n",
        "x = [1, 2, 3, 3, 3, 3, 4]\n",
        "x.count (3)\n",
        "4"
      ],
      "metadata": {
        "colab": {
          "base_uri": "https://localhost:8080/"
        },
        "id": "_zv56qH7ezDq",
        "outputId": "1309402a-4d82-4dde-b19a-e8efae3cbc73"
      },
      "execution_count": 3,
      "outputs": [
        {
          "output_type": "execute_result",
          "data": {
            "text/plain": [
              "4"
            ]
          },
          "metadata": {},
          "execution_count": 3
        }
      ]
    },
    {
      "cell_type": "code",
      "source": [
        "#index() Retorna o índice da primeira ocorrência do argumento passado:\n",
        "x = [1, 2, 3, 3, 3, 3, 4]\n",
        "x.index (3)\n",
        "2"
      ],
      "metadata": {
        "colab": {
          "base_uri": "https://localhost:8080/"
        },
        "id": "wZWp7J-yf28z",
        "outputId": "ef919a2e-0d69-402f-9aa5-b54faaa72eb7"
      },
      "execution_count": 4,
      "outputs": [
        {
          "output_type": "execute_result",
          "data": {
            "text/plain": [
              "2"
            ]
          },
          "metadata": {},
          "execution_count": 4
        }
      ]
    },
    {
      "cell_type": "code",
      "source": [
        "#insert() Insere na posição especificada um elemento:\n",
        "x = ['a', 'c', 'd']\n",
        "x.insert (1, 'b')\n",
        "x\n",
        "['a', 'b', 'c', 'd']"
      ],
      "metadata": {
        "colab": {
          "base_uri": "https://localhost:8080/"
        },
        "id": "GugM9mKcgBca",
        "outputId": "01d5b2e5-345c-49d8-e5af-7b6d669bd494"
      },
      "execution_count": 5,
      "outputs": [
        {
          "output_type": "execute_result",
          "data": {
            "text/plain": [
              "['a', 'b', 'c', 'd']"
            ]
          },
          "metadata": {},
          "execution_count": 5
        }
      ]
    },
    {
      "cell_type": "code",
      "source": [
        "#pop() Remove e retorna o elemento da posição especificada:\n",
        "x = ['a', 'b', 'c', 'd']\n",
        "x.pop (1)\n",
        "'b'\n",
        "x\n",
        "['a', 'c', 'd']"
      ],
      "metadata": {
        "colab": {
          "base_uri": "https://localhost:8080/"
        },
        "id": "EGUJqyq2gR7S",
        "outputId": "26ca381e-e4f1-4197-e622-81929b25d2b3"
      },
      "execution_count": null,
      "outputs": [
        {
          "output_type": "execute_result",
          "data": {
            "text/plain": [
              "['a', 'c', 'd']"
            ]
          },
          "metadata": {},
          "execution_count": 36
        }
      ]
    },
    {
      "cell_type": "code",
      "source": [
        "#remove() Remove o elemento especificado:\n",
        "x = ['a', 'b', 'c']\n",
        "x.remove('c')\n",
        "x\n",
        "['a', 'b']"
      ],
      "metadata": {
        "colab": {
          "base_uri": "https://localhost:8080/"
        },
        "id": "tboSyW9igYoq",
        "outputId": "c8b09311-07e1-40ca-9340-82a42b18bb04"
      },
      "execution_count": 7,
      "outputs": [
        {
          "output_type": "execute_result",
          "data": {
            "text/plain": [
              "['a', 'b']"
            ]
          },
          "metadata": {},
          "execution_count": 7
        }
      ]
    },
    {
      "cell_type": "code",
      "source": [
        "#reverse() Inverte a ordem dos elementos:\n",
        "x = [5, 4, 3, 2, 1]\n",
        "x.reverse ()\n",
        "x\n",
        "[1, 2, 3, 4, 5]"
      ],
      "metadata": {
        "id": "r2oX0sM_getD",
        "colab": {
          "base_uri": "https://localhost:8080/"
        },
        "outputId": "92dba60b-d9ea-49ba-b4dd-d62524170fe6"
      },
      "execution_count": 6,
      "outputs": [
        {
          "output_type": "execute_result",
          "data": {
            "text/plain": [
              "[1, 2, 3, 4, 5]"
            ]
          },
          "metadata": {},
          "execution_count": 6
        }
      ]
    },
    {
      "cell_type": "code",
      "source": [
        "#sort() Ordena:\n",
        "x = [10, 3, 3, 10, 10, 6, 6, 4, 8, 7]\n",
        "x.sort ()\n",
        "x\n",
        "[3, 3, 4, 6, 6, 7, 8, 10, 10, 10]"
      ],
      "metadata": {
        "colab": {
          "base_uri": "https://localhost:8080/"
        },
        "id": "CA_61AAFpoY2",
        "outputId": "15910c77-51b1-41e5-9871-82abfdf08677"
      },
      "execution_count": null,
      "outputs": [
        {
          "output_type": "execute_result",
          "data": {
            "text/plain": [
              "[3, 3, 4, 6, 6, 7, 8, 10, 10, 10]"
            ]
          },
          "metadata": {},
          "execution_count": 38
        }
      ]
    },
    {
      "cell_type": "markdown",
      "source": [
        "#7.1.2 Laço for\n",
        "\n",
        "Os conjuntos finitos de valores usados na estrutura de repetição for para iterar uma variável,\n",
        "também é uma lista."
      ],
      "metadata": {
        "id": "jSJem9qZJZS5"
      }
    },
    {
      "cell_type": "code",
      "source": [
        "x = [ 10, 5, 11, 0, 3]\n",
        "for i in x:\n",
        "  print(i)"
      ],
      "metadata": {
        "colab": {
          "base_uri": "https://localhost:8080/"
        },
        "id": "bOKpO9Akpu1E",
        "outputId": "bccf1c6c-5567-4558-8273-e7f4812e73b4"
      },
      "execution_count": 10,
      "outputs": [
        {
          "output_type": "stream",
          "name": "stdout",
          "text": [
            "10\n",
            "5\n",
            "11\n",
            "0\n",
            "3\n"
          ]
        }
      ]
    },
    {
      "cell_type": "markdown",
      "source": [
        "Neste caso, a lista x é usada como a lista de valores no qual i será iterado. Assim, serão\n",
        "impressos os valores 10, 5, 11, 0 e 3.\n",
        "No entanto, fora da iteração for, o operador in retorna verdadeiro se o i está presente em x, ou falso caso contrário."
      ],
      "metadata": {
        "id": "AysuknWvKHm4"
      }
    },
    {
      "cell_type": "code",
      "source": [
        "i = 10\n",
        "i in x\n",
        "True\n",
        "i = 100\n",
        "i in x\n",
        "False"
      ],
      "metadata": {
        "colab": {
          "base_uri": "https://localhost:8080/"
        },
        "id": "tuvHAOTlqAg7",
        "outputId": "5e76437b-1ab6-486a-aca3-e47c6bb412d1"
      },
      "execution_count": 11,
      "outputs": [
        {
          "output_type": "execute_result",
          "data": {
            "text/plain": [
              "False"
            ]
          },
          "metadata": {},
          "execution_count": 11
        }
      ]
    },
    {
      "cell_type": "markdown",
      "source": [
        "Quando uma lista é criada a partir de um laço for, é possível reescrever o procedimento de forma mais compacta.\n"
      ],
      "metadata": {
        "id": "OsvSQCsVJ9aB"
      }
    },
    {
      "cell_type": "code",
      "source": [
        "A=[3, 4, 5, 10]\n",
        "soma1 = list()\n",
        "for i in A:\n",
        "  soma1 += [i+1] #soma1.append(i+1)\n",
        "soma1\n",
        "[4, 5, 6, 11]"
      ],
      "metadata": {
        "colab": {
          "base_uri": "https://localhost:8080/"
        },
        "id": "W18jyQUGqJ4j",
        "outputId": "fe742daf-8252-411d-9d28-3cc428266368"
      },
      "execution_count": 12,
      "outputs": [
        {
          "output_type": "execute_result",
          "data": {
            "text/plain": [
              "[4, 5, 6, 11]"
            ]
          },
          "metadata": {},
          "execution_count": 12
        }
      ]
    },
    {
      "cell_type": "markdown",
      "source": [
        "Neste exemplo, uma nova lista soma1 é criada a partir de A somando-se 1 a cada elemento.\n",
        "A sintaxe da forma compacta pode ser expressa da seguinte forma:\n",
        "NovaLista = [ Elemento for Variavel in VelhaLista if Condicao ]\n",
        "No Exemplo anterior, seria:"
      ],
      "metadata": {
        "id": "TE5Kub3KKT6o"
      }
    },
    {
      "cell_type": "code",
      "source": [
        "A=[3, 4, 5, 10]\n",
        "soma1 = [i+1 for i in A]\n",
        "soma1\n",
        "[4, 5, 6, 11]\n"
      ],
      "metadata": {
        "colab": {
          "base_uri": "https://localhost:8080/"
        },
        "id": "h1Dq5x7QqTQM",
        "outputId": "655f2cf7-654c-46c5-a0fe-355e5754683c"
      },
      "execution_count": null,
      "outputs": [
        {
          "output_type": "execute_result",
          "data": {
            "text/plain": [
              "[4, 5, 6, 11]"
            ]
          },
          "metadata": {},
          "execution_count": 44
        }
      ]
    },
    {
      "cell_type": "markdown",
      "source": [
        "É possível também usar a forma compacta com condições:"
      ],
      "metadata": {
        "id": "5eMNWYrKKfg4"
      }
    },
    {
      "cell_type": "code",
      "source": [
        "A = [0, 0, 5, 3, 2, 7, 4, 10, 4, 7]\n",
        "N = list()\n",
        "for  i in  A:\n",
        "  A = [0, 0, 5, 3, 2, 7, 4, 10, 4, 7]\n",
        "  N = list()\n",
        "  if i%2 == 0:\n",
        "   N += [i*i]\n",
        "  N\n",
        "[0, 0, 4, 16, 100, 16]"
      ],
      "metadata": {
        "id": "SjdnDc5vqWzk",
        "colab": {
          "base_uri": "https://localhost:8080/"
        },
        "outputId": "bcbdc972-c97e-4e1b-b822-147dd3a998ed"
      },
      "execution_count": 19,
      "outputs": [
        {
          "output_type": "execute_result",
          "data": {
            "text/plain": [
              "[0, 0, 4, 16, 100, 16]"
            ]
          },
          "metadata": {},
          "execution_count": 19
        }
      ]
    },
    {
      "cell_type": "markdown",
      "source": [
        "Esse exemplo atribui a N os valores de A ao quadrado, mas apenas os que são pares.\n"
      ],
      "metadata": {
        "id": "asOOHp-KKpUB"
      }
    },
    {
      "cell_type": "code",
      "source": [
        "A = [0, 0, 5, 3, 2, 7, 4, 10, 4, 7]\n",
        "N = [i*i for i in A if i%2 ==0]\n",
        "N\n",
        "[0, 0, 4, 16, 100, 16]"
      ],
      "metadata": {
        "colab": {
          "base_uri": "https://localhost:8080/"
        },
        "id": "is0-yClDqs9T",
        "outputId": "7c7eecea-5e96-42c2-8a87-211e148fd1c0"
      },
      "execution_count": 20,
      "outputs": [
        {
          "output_type": "execute_result",
          "data": {
            "text/plain": [
              "[0, 0, 4, 16, 100, 16]"
            ]
          },
          "metadata": {},
          "execution_count": 20
        }
      ]
    },
    {
      "cell_type": "markdown",
      "source": [
        "#7.1.3 Fatiamento\n",
        "\n",
        "É possível acessar partes da lista por meio de fatiamentos. Para isso, há três parâmetros,\n",
        "separados por dois pontos:"
      ],
      "metadata": {
        "id": "F7163igpK7kI"
      }
    },
    {
      "cell_type": "markdown",
      "source": [
        ">>> lista[ inicio: fim: passo]\n",
        "Índices negativos continuam válidos, bem como o passo negativo, que indicará que o\n",
        "fatiamento será de trás para frente. O parâmetro de início é de onde o fatiamento irá\n",
        "começar, o de fim-1 é onde o fatiamento irá parar e o passo é de quantos em quantos\n",
        "elementos serão pegos. Exemplo:"
      ],
      "metadata": {
        "id": "nDqSozy2LGew"
      }
    },
    {
      "cell_type": "code",
      "source": [
        "X = [1, 2, 3, 4, 5, 6, 7, 8, 9, 0]\n",
        "X[0:2:1]\n",
        "[1, 2]\n",
        "X[0:4:1]\n",
        "[1, 2, 3, 4]\n",
        "X[0:4:2]\n",
        "[1, 3]\n"
      ],
      "metadata": {
        "colab": {
          "base_uri": "https://localhost:8080/"
        },
        "id": "CX7DblUSq5K9",
        "outputId": "02237552-0914-4729-acd4-f50c5433b6a4"
      },
      "execution_count": 22,
      "outputs": [
        {
          "output_type": "execute_result",
          "data": {
            "text/plain": [
              "[1, 3]"
            ]
          },
          "metadata": {},
          "execution_count": 22
        }
      ]
    },
    {
      "cell_type": "markdown",
      "source": [
        "Nesse exemplo, primeiro é selecionado do elemento 0 até o elemento 1, de 1 em 1, depois\n",
        "selecionado do 0 até o 3 de 1 em 1 e, por fim, de 0 até o 3 de 2 em 2."
      ],
      "metadata": {
        "id": "RmuzjdxqLQeo"
      }
    },
    {
      "cell_type": "code",
      "source": [
        "X = [1, 2, 3, 4, 5, 6, 7, 8, 9, 0]\n",
        "X[::-1]\n",
        "[0, 9, 8, 7, 6, 5, 4, 3, 2, 1]\n",
        "X[4::-1]\n",
        "[5, 4, 3, 2, 1]\n"
      ],
      "metadata": {
        "colab": {
          "base_uri": "https://localhost:8080/"
        },
        "id": "etWd0R2BrFk7",
        "outputId": "618e75bd-7832-477e-8fe0-3ac2d5a81426"
      },
      "execution_count": 23,
      "outputs": [
        {
          "output_type": "execute_result",
          "data": {
            "text/plain": [
              "[5, 4, 3, 2, 1]"
            ]
          },
          "metadata": {},
          "execution_count": 23
        }
      ]
    },
    {
      "cell_type": "markdown",
      "source": [
        "Esse exemplo mostra o passo negativo, que indica que o fatiamento percorre a lista no\n",
        "sentido inverso. Primeiro, toda a lista foi selecionada, porém com passo -1, e, por fim, a\n",
        "lista foi selecionada a partir do elemento 4 e contada de 1 em 1 em direção ao elemento 0.\n",
        "É possível também omitir os parâmetros. Por padrão, o início vale 0, o fim vale o índice\n",
        "do último elemento + 1 (tamanho da lista) e o passo vale 1."
      ],
      "metadata": {
        "id": "0zIXubckLWsw"
      }
    },
    {
      "cell_type": "code",
      "source": [
        "X = [1, 2, 3, 4, 5, 6, 7, 8, 9, 0]\n",
        "X[:2:1]\n",
        "[1, 2]\n",
        "X[:4]\n",
        "[1, 2, 3, 4]\n",
        "X[::2]\n",
        "[1, 3, 5, 7, 9]\n",
        "X[:] #equivale a X\n",
        "[1, 2, 3, 4, 5, 6, 7, 8, 9, 0]"
      ],
      "metadata": {
        "colab": {
          "base_uri": "https://localhost:8080/"
        },
        "id": "FJey2Q9yrMCT",
        "outputId": "1289ed6b-54ae-43ad-c84e-e7c586c17453"
      },
      "execution_count": 24,
      "outputs": [
        {
          "output_type": "execute_result",
          "data": {
            "text/plain": [
              "[1, 2, 3, 4, 5, 6, 7, 8, 9, 0]"
            ]
          },
          "metadata": {},
          "execution_count": 24
        }
      ]
    },
    {
      "cell_type": "markdown",
      "source": [
        "Nesse exemplo, X foi fatiado primeiro de 0 a 2, com passo 1, depois em 0 a 4, também\n",
        "com passo 1, em seguida a lista toda, com passo 2 e, por fim, a lista toda"
      ],
      "metadata": {
        "id": "beguUrTSLauo"
      }
    },
    {
      "cell_type": "markdown",
      "source": [
        "#7.2 Tuplas\n",
        "\n",
        "As tuplas são similares as listas, pois são ordenadas e heterogêneas. No entanto, diferen-\n",
        "temente das listas, as tuplas são imutáveis. Este fato faz com que as tuplas sejam mais\n",
        "compactas e eficazes em termos de memória e eficiência.\n",
        "A sua atribuição é feita por meio de parênteses:"
      ],
      "metadata": {
        "id": "0fGISM0HLhqJ"
      }
    },
    {
      "cell_type": "code",
      "source": [
        "x = ('a', 1, 2)\n",
        "type(x)\n",
        "#<class tuple>\n",
        "x\n",
        "#('a', 1, 2)"
      ],
      "metadata": {
        "colab": {
          "base_uri": "https://localhost:8080/"
        },
        "id": "CtkreErFrOK8",
        "outputId": "2f16a5c2-22da-436b-b50d-e61a2f80fabd"
      },
      "execution_count": 25,
      "outputs": [
        {
          "output_type": "execute_result",
          "data": {
            "text/plain": [
              "('a', 1, 2)"
            ]
          },
          "metadata": {},
          "execution_count": 25
        }
      ]
    },
    {
      "cell_type": "markdown",
      "source": [
        "DICA: Tuplas vazias podem ser criadas usando-se uma das duas sintaxes a seguir:\n",
        "x = ()\n",
        "x = tuple()\n",
        "No entanto, como as tuplas são imutáveis, esse procedimento não é comum.\n",
        "As tuplas são imutáveis, no entanto, como são heterogêneas, se em uma tupla houver listas,\n",
        "os item das listas podem ser alterados normalmente, pois, apesar da tupla, as listas são\n",
        "mutáveis:"
      ],
      "metadata": {
        "id": "BlG5tiA_Lqg5"
      }
    },
    {
      "cell_type": "code",
      "source": [
        "x = ([0, 1, 2], 2, 2)\n",
        "x[1]\n",
        "x = ([0, 1, 2], 2, 2)\n",
        "x[1]\n",
        "2\n",
        "#x[1] = 2\n",
        "#Traceback (most recent call last):\n",
        "#File \"<pyshell#12>\", line 1, in <module >\n",
        "#x[1] = 2\n",
        "#TypeError : 'tuple' object does not support item assignment\n",
        "x[0]\n",
        "[0, 1, 2]\n",
        "x[0][0] = 'mudei'\n",
        "x\n",
        "(['mudei', 1, 2], 2, 2)\n",
        "\n",
        "x[0]\n",
        "[0, 1, 2]\n",
        "x[0][0] = 'mudei'\n",
        "x\n",
        "(['mudei', 1, 2], 2, 2)\n"
      ],
      "metadata": {
        "colab": {
          "base_uri": "https://localhost:8080/"
        },
        "id": "rqTKqZpUrfB8",
        "outputId": "53f99cc7-96e5-4c0e-d052-658b578cff37"
      },
      "execution_count": 26,
      "outputs": [
        {
          "output_type": "execute_result",
          "data": {
            "text/plain": [
              "(['mudei', 1, 2], 2, 2)"
            ]
          },
          "metadata": {},
          "execution_count": 26
        }
      ]
    },
    {
      "cell_type": "markdown",
      "source": [
        "Alguns operadores aritméticos e relacionais também se aplicam as tuplas, muito similar a\n",
        "aplicação em listas. Basicamente, elas podem ser concatenadas e são comparáveis"
      ],
      "metadata": {
        "id": "Wk4NRK2RLw8o"
      }
    },
    {
      "cell_type": "code",
      "source": [
        "X = (1, 2, 3)\n",
        "Y = (1, 2, 4)\n",
        "Z = (4, 0, 0)\n",
        "X < Y\n",
        "True\n",
        "X < Z\n",
        "True\n",
        "X + Y\n",
        "(1, 2, 3, 1, 2, 4)\n",
        "Z*4\n",
        "(4, 0, 0, 4, 0, 0, 4, 0, 0, 4, 0, 0)\n",
        "X += (4,)\n",
        "X\n",
        "(1, 2, 3, 4)"
      ],
      "metadata": {
        "colab": {
          "base_uri": "https://localhost:8080/"
        },
        "id": "mTcUpmFmrqqs",
        "outputId": "5af5a758-d7c3-4b45-a454-a7e6a480cf95"
      },
      "execution_count": 27,
      "outputs": [
        {
          "output_type": "execute_result",
          "data": {
            "text/plain": [
              "(1, 2, 3, 4)"
            ]
          },
          "metadata": {},
          "execution_count": 27
        }
      ]
    },
    {
      "cell_type": "markdown",
      "source": [
        "As tuplas são imutáveis, mas mesmo assim, pode-se realizar a operação de atribuição com\n",
        "concatenação, como no exemplo acima ( X += (4,) ). Isso é permitido, pois ao fazer esta\n",
        "operação os elementos da tupla não estão sendo alterados, o que ocorre é que uma nova\n",
        "tupla está sendo atribuída a variável. Ou seja, a regra da imutabilidade está preservada"
      ],
      "metadata": {
        "id": "hADUqdb5L2NB"
      }
    },
    {
      "cell_type": "markdown",
      "source": [
        "Tipo Operador Descrição\n",
        "\n",
        "Aritmético + Concatenação\n",
        "\n",
        "Aritmético * Múltiplas concatenações\n",
        "\n",
        "Relacional == Igual a\n",
        "\n",
        "Relacional != Diferente de\n",
        "\n",
        "Relacional <> Diferente de\n",
        "\n",
        "Relacional > Maior) que\n",
        "\n",
        "Relacional >= Maior ou igual a\n",
        "\n",
        "Relacional < Menor que\n",
        "\n",
        "Relacional <= Menor) ou igual a"
      ],
      "metadata": {
        "id": "gBt04UT9r1HM"
      }
    },
    {
      "cell_type": "markdown",
      "source": [],
      "metadata": {
        "id": "Y4quko2_NVaA"
      }
    },
    {
      "cell_type": "markdown",
      "source": [
        "## SEGUNDA ATIVIDADE\n",
        "AULA: 18/03/2025 ✅\n",
        "\n",
        "Programa sobre dia do mês"
      ],
      "metadata": {
        "id": "x8HsVznufDr6"
      }
    },
    {
      "cell_type": "code",
      "source": [
        "dia = input(\"Digite o dia do mês: \")\n",
        "dia = int(dia)\n",
        "restantes = 31 - dia\n",
        "print (\"Faltam\",restantes,\"dias para o fim do mês\")"
      ],
      "metadata": {
        "colab": {
          "base_uri": "https://localhost:8080/"
        },
        "id": "e4WLkaBRfQcp",
        "outputId": "c479a531-8bfc-46dc-e440-1f4d041e6fcc"
      },
      "execution_count": null,
      "outputs": [
        {
          "output_type": "stream",
          "name": "stdout",
          "text": [
            "Digite o dia do mês: 15\n",
            "Faltam 16 dias para o fim do mês\n"
          ]
        }
      ]
    },
    {
      "cell_type": "code",
      "source": [
        "#Manipulação de Lista:\n",
        "\n",
        "lista = list(range(1,101))\n",
        "print(lista)\n",
        "\n",
        "numero = []\n",
        "for i in range(101,1):\n",
        " numero.append(i)\n",
        "reversed = lista[::-1]\n",
        "print(reversed)"
      ],
      "metadata": {
        "colab": {
          "base_uri": "https://localhost:8080/"
        },
        "id": "PVe5Hu0kfkYx",
        "outputId": "8fd9d3d6-4a25-49cc-8bc4-2d702c5bca2b"
      },
      "execution_count": null,
      "outputs": [
        {
          "output_type": "stream",
          "name": "stdout",
          "text": [
            "[1, 2, 3, 4, 5, 6, 7, 8, 9, 10, 11, 12, 13, 14, 15, 16, 17, 18, 19, 20, 21, 22, 23, 24, 25, 26, 27, 28, 29, 30, 31, 32, 33, 34, 35, 36, 37, 38, 39, 40, 41, 42, 43, 44, 45, 46, 47, 48, 49, 50, 51, 52, 53, 54, 55, 56, 57, 58, 59, 60, 61, 62, 63, 64, 65, 66, 67, 68, 69, 70, 71, 72, 73, 74, 75, 76, 77, 78, 79, 80, 81, 82, 83, 84, 85, 86, 87, 88, 89, 90, 91, 92, 93, 94, 95, 96, 97, 98, 99, 100]\n",
            "[100, 99, 98, 97, 96, 95, 94, 93, 92, 91, 90, 89, 88, 87, 86, 85, 84, 83, 82, 81, 80, 79, 78, 77, 76, 75, 74, 73, 72, 71, 70, 69, 68, 67, 66, 65, 64, 63, 62, 61, 60, 59, 58, 57, 56, 55, 54, 53, 52, 51, 50, 49, 48, 47, 46, 45, 44, 43, 42, 41, 40, 39, 38, 37, 36, 35, 34, 33, 32, 31, 30, 29, 28, 27, 26, 25, 24, 23, 22, 21, 20, 19, 18, 17, 16, 15, 14, 13, 12, 11, 10, 9, 8, 7, 6, 5, 4, 3, 2, 1]\n"
          ]
        }
      ]
    },
    {
      "cell_type": "markdown",
      "source": [
        "AULA DIA : 25/03/2025 ✅\n",
        "\n",
        "ATIVIDADE NÃO PRESENCIAL\n",
        "\n",
        "\n",
        "# Turing\n",
        "\n",
        "# O Jogo da Imitação – Análise e Relação com as Estruturas de Dados 🎬💡\n",
        "\n",
        "O objetivo desta atividade é demonstrar como as estruturas de dados podem ser aplicadas e como estão ligadas ao filme *O Jogo da Imitação* e ao nosso dia a dia.\n",
        "\n",
        "## 1. Contextualização 📽️\n",
        "\n",
        "Assistindo ao filme, achei interessante a jornada de Alan Turing e sua equipe, tentando quebrar o código Enigma usado pelos nazistas na Segunda Guerra Mundial. Alan enfrentava o problema de testar milhões de combinações até encontrar a chave certa. A parte criptográfica do desafio era gigantesca, e o tempo era escasso. Alan sabia que não conseguiriam resolver o problema manualmente.\n",
        "\n",
        "Foi aí que entrou a máquina Bombe, que acelerava significativamente o processo de tentativa e erro. Mesmo com a máquina, Alan ainda precisava ser estratégico e descartar muitas combinações. Ele não podia simplesmente testar todas as possibilidades aleatoriamente, mas sim organizar e filtrar de maneira eficiente.\n",
        "\n",
        "Embora o filme não tenha falado explicitamente sobre estruturas de dados, percebi que as soluções usadas por Turing e sua equipe têm muito a ver com o que hoje chamamos de estruturas de dados. A organização e eliminação de combinações pelas quais a Bombe passava são práticas que usamos atualmente em computação.\n",
        "\n",
        "----\n",
        "\n",
        "## 2. Trecho Selecionado do Filme 🎬\n",
        "\n",
        "Enquanto assistiaa ao filme, tentei observar como a máquina Bombe, desenvolvida pela equipe de Turing, testava uma quantidade imensa de combinações de letras e códigos. Alan e sua equipe programaram algoritmos para eliminar rapidamente as possibilidades improváveis, baseadas em pistas e dicas lógicas. O processo me fez pensar que o fluxo de tentativas da máquina poderia ser comparado com uma fila (FIFO).\n",
        "\n",
        "A fila funciona de forma a garantir que cada tentativa seja testada na ordem certa, sem perder nenhuma tentativa importante. A Bombe não testava as combinações de forma aleatória; ela seguia um fluxo organizado, como uma fila. Isso é altamente importante, pois garante que nenhuma combinação seja perdida.\n",
        "\n",
        "---\n",
        "\n",
        "## 3. Reflita! 💭\n",
        "\n",
        "Assistindo ao filme, percebi como o trabalho de Turing e sua equipe se conecta com os conceitos de estruturas de dados que usamos na programação. Mesmo que esses termos não fossem explicitamente utilizados, o processo de organização das tentativas e a eliminação de combinações improváveis eram fundamentais para o sucesso da decodificação.\n",
        "\n",
        "### Fila (FIFO) 🚶‍♂️\n",
        "A fila é uma estrutura simples, onde o primeiro a entrar é o primeiro a sair (FIFO). Isso foi muito útil para a máquina Bombe, que testava as combinações de forma organizada e sem perder nada. Se fizéssemos as tentativas de forma aleatória, facilmente perderíamos combinações importantes ou faríamos tentativas repetidas. A fila garante que tudo seja testado na ordem certa.\n",
        "\n",
        "### Pilha (LIFO) 📦\n",
        "Agora, se uma tentativa falhasse, seria necessário voltar atrás e tentar uma nova possibilidade. Isso é onde uma pilha (LIFO) entraria em cena. A pilha permite que a última tentativa seja a primeira a ser desfeita, o que ajuda a economizar tempo. Em vez de recomeçar o processo inteiro, a pilha permite que a equipe volte rapidamente ao ponto de falha e continue a partir dali.\n",
        "\n",
        "---\n",
        "\n",
        "## 4. Desafio para a Próxima Aula 🔍\n",
        "\n",
        "O desafio dá aula era explorar como filas, pilhas e listas poderiam ser aplicadas no processo de decodificação de forma prática, como Turing fez, mas de maneira mais estruturada.\n",
        "\n",
        "### Fila (FIFO) 🚶‍♂️\n",
        "Se as combinações de letras fossem armazenadas em uma fila, o processo de decodificação seria mais organizado. A fila garantiria que as combinações fossem testadas de acordo com o princípio FIFO: o primeiro a entrar seria o primeiro a ser testado. Testar de forma aleatória poderia resultar em combinações perdidas ou tentativas repetidas, o que a fila evita.\n",
        "\n",
        "### Pilha (LIFO) 📦\n",
        "Se fosse necessário voltar atrás em alguma combinação, uma pilha (LIFO) seria útil. A pilha funciona de forma que a última tentativa feita seja a primeira a ser revisitada. Isso ajuda a economizar tempo, pois não é necessário recomeçar todo o processo. Ao invés disso, você pode \"desfazer\" rapidamente o último passo e tentar outra possibilidade.\n",
        "\n",
        "### Lista 📋\n",
        "Por fim, uma lista seria crucial para evitar que padrões já testados fossem repetidos. Armazenando as combinações já testadas, a máquina poderia facilmente verificar se uma tentativa foi feita antes, sem perder tempo. Uma lista encadeada seria a escolha ideal, pois permite inserir e remover itens de forma mais eficiente, sem a necessidade de reorganizar a memória, como seria necessário com um vetor.\n",
        "\n",
        "---"
      ],
      "metadata": {
        "id": "vEudXZCCjoq-"
      }
    },
    {
      "cell_type": "markdown",
      "source": [
        "Exercícios do livro página 46 (1 a 5):\n",
        "\n"
      ],
      "metadata": {
        "id": "Uga1UWAg10xN"
      }
    },
    {
      "cell_type": "markdown",
      "source": [
        "1) Crie um vetor de inteiros ( int ) de 10 posições. Preencha-o\n",
        "com os valores 10 , 20 , 30 , 40 , 50 , 60 , 70 , 80 , 90 e\n",
        "100 . Use um for para exibir os valores deste vetor."
      ],
      "metadata": {
        "id": "TesKsBCH5IXd"
      }
    },
    {
      "cell_type": "code",
      "source": [
        "cpf = int\n",
        "cpf = [10,20,30,40,50,60,70,80,90,100]\n",
        "for vetor in cpf:\n",
        "  print(vetor)"
      ],
      "metadata": {
        "colab": {
          "base_uri": "https://localhost:8080/"
        },
        "id": "WCJiWUK-jtsQ",
        "outputId": "dc5b834d-80ca-4228-acf6-4df68ea42be5"
      },
      "execution_count": null,
      "outputs": [
        {
          "output_type": "stream",
          "name": "stdout",
          "text": [
            "10\n",
            "20\n",
            "30\n",
            "40\n",
            "50\n",
            "60\n",
            "70\n",
            "80\n",
            "90\n",
            "100\n"
          ]
        }
      ]
    },
    {
      "cell_type": "markdown",
      "source": [
        "2) Crie uma matriz de caracteres ( char ) de 16 posições (4x4).\n",
        "Preencha-a com os valores a , b , c , d , e , f , g , h , i , j ,\n",
        "k , l , m , n , o e p . Use dois for para exibir os valores desta\n",
        "matriz."
      ],
      "metadata": {
        "id": "GLnhkCrR5EE0"
      }
    },
    {
      "cell_type": "code",
      "source": [
        "matriz = [\n",
        "    ['a', 'b', 'c', 'd'],\n",
        "    ['e', 'f', 'g', 'h'],\n",
        "    ['i', 'j', 'k', 'l'],\n",
        "    ['m', 'n', 'o', 'p']\n",
        "]\n",
        "\n",
        "for linha in matriz:\n",
        "  for coluna in linha:\n",
        "    print(coluna, end=' ')\n",
        "  print()"
      ],
      "metadata": {
        "colab": {
          "base_uri": "https://localhost:8080/"
        },
        "id": "NJGyGdQg51h0",
        "outputId": "bf1d9506-3025-4ad4-d800-ddfa581c1398"
      },
      "execution_count": null,
      "outputs": [
        {
          "output_type": "stream",
          "name": "stdout",
          "text": [
            "a b c d \n",
            "e f g h \n",
            "i j k l \n",
            "m n o p \n"
          ]
        }
      ]
    },
    {
      "cell_type": "markdown",
      "source": [
        "3) Faça um programa com um vetor com 10 elementos inteiros\n",
        "positivos (aleatórios e de sua escolha). Permita que seja solicitado\n",
        "um determinado valor inteiro e positivo para ser procurado neste\n",
        "vetor. Caso exista, o programa deve exibir o índice no qual o valor\n",
        "está posicionado. Caso contrário, o programa deve informar que o\n",
        "elemento não existe no vetor."
      ],
      "metadata": {
        "id": "3ESMqPKj6dYV"
      }
    },
    {
      "cell_type": "code",
      "source": [
        "vetor = [12, 35, 7, 22, 9, 44, 58, 17, 29, 63]\n",
        "\n",
        "valor = int(input(\"Digite um valor inteiro positivo para procurar no vetor: \"))\n",
        "\n",
        "if valor in vetor:\n",
        "    indice = vetor.index(valor)\n",
        "    print(f\"O valor {valor} foi encontrado no índice {indice}.\")\n",
        "else:\n",
        "    print(f\"O valor {valor} não existe no vetor.\")\n"
      ],
      "metadata": {
        "colab": {
          "base_uri": "https://localhost:8080/"
        },
        "id": "7JaYLOBM6eK2",
        "outputId": "57065e47-d373-4ab4-dc0d-2b377673caea"
      },
      "execution_count": null,
      "outputs": [
        {
          "output_type": "stream",
          "name": "stdout",
          "text": [
            "Digite um valor inteiro positivo para procurar no vetor: 35\n",
            "O valor 35 foi encontrado no índice 1.\n"
          ]
        }
      ]
    },
    {
      "cell_type": "markdown",
      "source": [
        "4) Faça um programa com uma matriz com 9 elementos (3x3)\n",
        "reais positivos (aleatórios e de sua escolha). Calcule e exiba a soma\n",
        "dos elementos de cada linha desta matriz"
      ],
      "metadata": {
        "id": "0XPwWmpI6484"
      }
    },
    {
      "cell_type": "code",
      "source": [
        "matriz = [\n",
        "    [12.5, 7.2, 3.8],\n",
        "    [4.5, 8.1, 6.7],\n",
        "    [9.3, 1.4, 2.6]\n",
        "]\n",
        "\n",
        "for i, linha in enumerate(matriz):\n",
        "    soma = sum(linha)\n",
        "    print(f\"Soma dos elementos da linha {i + 1}: {soma}\")\n"
      ],
      "metadata": {
        "colab": {
          "base_uri": "https://localhost:8080/"
        },
        "id": "7Vf1YFv465c8",
        "outputId": "028b7cb8-49fc-43ad-8f57-2833bfc10bc5"
      },
      "execution_count": null,
      "outputs": [
        {
          "output_type": "stream",
          "name": "stdout",
          "text": [
            "Soma dos elementos da linha 1: 23.5\n",
            "Soma dos elementos da linha 2: 19.3\n",
            "Soma dos elementos da linha 3: 13.3\n"
          ]
        }
      ]
    },
    {
      "cell_type": "markdown",
      "source": [
        "5) Faça um programa com uma matriz 5x5 de inteiros\n",
        "positivos ou negativos (aleatórios e de sua escolha) e encontre e\n",
        "exiba o maior elemento desta matriz.\n"
      ],
      "metadata": {
        "id": "DHExPRNQ7H_9"
      }
    },
    {
      "cell_type": "code",
      "source": [
        "matriz = [\n",
        "    [12, -7, 3, 5, 9],\n",
        "    [-2, 13, 6, 8, 1],\n",
        "    [7, -4, 0, -9, 11],\n",
        "    [5, -3, 4, 15, -1],\n",
        "    [-8, 2, 10, 6, 4]\n",
        "]\n",
        "\n",
        "maior_elemento = max(max(linha) for linha in matriz)\n",
        "\n",
        "print(f\"O maior elemento da matriz é: {maior_elemento}\")\n"
      ],
      "metadata": {
        "colab": {
          "base_uri": "https://localhost:8080/"
        },
        "id": "xu5RIcHw7I2e",
        "outputId": "dafa9c80-fde3-472e-fb2b-a4c1626717f6"
      },
      "execution_count": null,
      "outputs": [
        {
          "output_type": "stream",
          "name": "stdout",
          "text": [
            "O maior elemento da matriz é: 15\n"
          ]
        }
      ]
    },
    {
      "cell_type": "markdown",
      "source": [
        "### Exercício 1:\n",
        "**Objetivo:** Criar um vetor de inteiros e exibir seus valores.\n",
        "\n",
        "1. **Criação do vetor:** O vetor é criado com 10 valores inteiros fixos.\n",
        "2. **Laço `for`:** O laço percorre todos os elementos do vetor e os imprime um a um.\n",
        "\n",
        "---\n",
        "\n",
        "### Exercício 2:\n",
        "**Objetivo:** Criar uma matriz 4x4 de caracteres e exibir seus valores.\n",
        "\n",
        "1. **Criação da matriz:** A matriz é criada como uma lista de listas, com cada sublista representando uma linha da matriz.\n",
        "2. **Laços `for`:** O primeiro laço percorre as linhas da matriz e o segundo percorre os elementos de cada linha.\n",
        "3. **Impressão:** Os valores são exibidos separando-os por espaços, linha por linha.\n",
        "\n",
        "---\n",
        "\n",
        "### Exercício 3:\n",
        "**Objetivo:** Criar um vetor e permitir que o usuário busque um valor nele.\n",
        "\n",
        "1. **Criação do vetor:** O vetor é criado com 10 valores aleatórios.\n",
        "2. **Entrada de valor:** O programa solicita ao usuário que insira um número para busca.\n",
        "3. **Busca:** A função `in` verifica se o valor está presente no vetor. Caso esteja, é exibido o índice do valor; caso contrário, uma mensagem de erro é exibida.\n",
        "\n",
        "---\n",
        "\n",
        "### Exercício 4:\n",
        "**Objetivo:** Criar uma matriz 3x3 com números reais e calcular a soma dos elementos de cada linha.\n",
        "\n",
        "1. **Criação da matriz:** A matriz é composta por três listas internas, cada uma com três valores reais.\n",
        "2. **Cálculo da soma das linhas:** A função `sum()` é usada para somar os elementos de cada linha da matriz.\n",
        "3. **Exibição dos resultados:** A soma de cada linha é impressa, mostrando o total de cada uma.\n",
        "\n",
        "---\n",
        "\n",
        "### Exercício 5:\n",
        "**Objetivo:** Criar uma matriz 5x5 e encontrar o maior valor.\n",
        "\n",
        "1. **Criação da matriz:** A matriz é criada com valores inteiros (positivos e negativos) distribuídos em 5 linhas e 5 colunas.\n",
        "2. **Busca pelo maior valor:** A função `max()` é usada para encontrar o maior valor de cada linha, e outra aplicação de `max()` encontra o maior valor geral da matriz.\n",
        "3. **Exibição do maior valor:** O maior número encontrado é exibido ao usuário.\n",
        "\n",
        "---\n",
        "\n"
      ],
      "metadata": {
        "id": "HywQNBHH2t1i"
      }
    },
    {
      "cell_type": "markdown",
      "source": [
        " DATA : 08/04\n",
        "\n",
        "\n",
        " ATVIDADE ESTRUTURA DE DADOS\n",
        "\n",
        "# #1. Implementação de Lista Encadeada para Gerenciamento de Tarefas !!!"
      ],
      "metadata": {
        "id": "kjHeEj8T2wv3"
      }
    },
    {
      "cell_type": "code",
      "source": [
        "class Tarefa:\n",
        "  def __init__(self, nome):\n",
        "    self.nome = nome\n",
        "    self.proxima = None\n",
        "\n",
        "class ListaEncadeada:\n",
        "  def __init__(self):\n",
        "    self.head = None\n",
        "\n",
        "  def adicionar_tarefa(self, nome):\n",
        "    nova_tarefa = Tarefa(nome)\n",
        "    nova_tarefa.proxima = self.head\n",
        "    self.head = nova_tarefa\n",
        "\n",
        "  def remover_tarefa(self, nome):\n",
        "    atual = self.head\n",
        "    anterior = None\n",
        "    while atual and atual.nome != nome:\n",
        "      anterior = atual\n",
        "      atual = atual.proxima\n",
        "    if atual:\n",
        "      if anterior:\n",
        "        anterior.proxima = atual.proxima\n",
        "      else:\n",
        "        self.head = atual.proxima\n",
        "\n",
        "  def mostrar_tarefas(self):\n",
        "    atual = self.head\n",
        "    while atual:\n",
        "      print(atual.nome)\n",
        "      atual = atual.proxima\n",
        "\n",
        "# Exemplo de uso\n",
        "lista_tarefas = ListaEncadeada()\n",
        "lista_tarefas.adicionar_tarefa(\"Estudar Estruturas de Dados\")\n",
        "lista_tarefas.adicionar_tarefa(\"Revisar Código\")\n",
        "print(\"Tarefas iniciais:\")\n",
        "lista_tarefas.mostrar_tarefas()\n",
        "lista_tarefas.remover_tarefa(\"Revisar Código\")\n",
        "print(\"\\nTarefas após remover 'Revisar Código':\")\n",
        "lista_tarefas.mostrar_tarefas()"
      ],
      "metadata": {
        "colab": {
          "base_uri": "https://localhost:8080/"
        },
        "id": "02jgMhmA5o3g",
        "outputId": "25d926f2-73ba-404c-a883-f65fa2e41093"
      },
      "execution_count": null,
      "outputs": [
        {
          "output_type": "stream",
          "name": "stdout",
          "text": [
            "Tarefas iniciais:\n",
            "Revisar Código\n",
            "Estudar Estruturas de Dados\n",
            "\n",
            "Tarefas após remover 'Revisar Código':\n",
            "Estudar Estruturas de Dados\n"
          ]
        }
      ]
    },
    {
      "cell_type": "markdown",
      "source": [
        "#2. Agenda Telefônica com Lista Duplamente Encadeada"
      ],
      "metadata": {
        "id": "QB46DjR96DZI"
      }
    },
    {
      "cell_type": "code",
      "source": [
        "class Contato:\n",
        "  def __init__(self, nome, telefone):\n",
        "    self.nome = nome\n",
        "    self.telefone = telefone\n",
        "    self.anterior = None\n",
        "    self.proximo = None\n",
        "\n",
        "class ListaDuplamenteEncadeada:\n",
        "  def __init__(self):\n",
        "    self.head = None\n",
        "\n",
        "  def adicionar_contato(self, nome, telefone):\n",
        "    novo_contato = Contato(nome, telefone)\n",
        "    novo_contato.proximo = self.head\n",
        "    if self.head:\n",
        "      self.head.anterior = novo_contato\n",
        "    self.head = novo_contato\n",
        "\n",
        "  def remover_contato(self, nome):\n",
        "    atual = self.head\n",
        "    while atual and atual.nome != nome:\n",
        "      atual = atual.proximo\n",
        "    if atual:\n",
        "      if atual.anterior:\n",
        "        atual.anterior.proximo = atual.proximo\n",
        "      if atual.proximo:\n",
        "        atual.proximo.anterior = atual.anterior\n",
        "      if atual == self.head:\n",
        "        self.head = atual.proximo\n",
        "\n",
        "  def buscar_contato(self, nome):\n",
        "    atual = self.head\n",
        "    while atual:\n",
        "      if atual.nome == nome:\n",
        "        return f\"Contato encontrado: {atual.nome} - {atual.telefone}\"\n",
        "      atual = atual.proximo\n",
        "    return \"Contato não encontrado\"\n",
        "\n",
        "# Exemplo de uso\n",
        "agenda = ListaDuplamenteEncadeada()\n",
        "agenda.adicionar_contato(\"Alice\", \"123456789\")\n",
        "agenda.adicionar_contato(\"Bob\", \"987654321\")\n",
        "print(agenda.buscar_contato(\"Bob\"))\n",
        "agenda.remover_contato(\"Alice\")\n",
        "print(agenda.buscar_contato(\"Alice\"))\n"
      ],
      "metadata": {
        "colab": {
          "base_uri": "https://localhost:8080/"
        },
        "id": "BJmpMt3z6RTH",
        "outputId": "ac55ac2b-1c52-4be8-db76-08709fb5b2ad"
      },
      "execution_count": null,
      "outputs": [
        {
          "output_type": "stream",
          "name": "stdout",
          "text": [
            "Contato encontrado: Bob - 987654321\n",
            "Contato não encontrado\n"
          ]
        }
      ]
    },
    {
      "cell_type": "markdown",
      "source": [
        "# 3. Controle de Histórico de Navegação"
      ],
      "metadata": {
        "id": "sG2sBp-_6tPe"
      }
    },
    {
      "cell_type": "code",
      "source": [
        "class Pagina:\n",
        "  def __init__(self, url):\n",
        "    self.url = url\n",
        "    self.anterior = None\n",
        "    self.proximo = None\n",
        "\n",
        "class HistoricoNavegacao:\n",
        "  def __init__(self):\n",
        "    self.atual = None\n",
        "\n",
        "  def visitar_pagina(self, url):\n",
        "    nova_pagina = Pagina(url)\n",
        "    if self.atual:\n",
        "      self.atual.proximo = nova_pagina\n",
        "      nova_pagina.anterior = self.atual\n",
        "    self.atual = nova_pagina\n",
        "    print(f\"Visitando: {self.atual.url}\")\n",
        "\n",
        "  def voltar(self):\n",
        "    if self.atual and self.atual.anterior:\n",
        "      self.atual = self.atual.anterior\n",
        "      print(f\"Voltando para: {self.atual.url}\")\n",
        "      return self.atual.url\n",
        "    else:\n",
        "      print(\"Não há página anterior.\")\n",
        "      return None\n",
        "\n",
        "  def avancar(self):\n",
        "    if self.atual and self.atual.proximo:\n",
        "      self.atual = self.atual.proximo\n",
        "      print(f\"Avançando para: {self.atual.url}\")\n",
        "      return self.atual.url\n",
        "    else:\n",
        "      print(\"Não há página seguinte.\")\n",
        "      return None\n",
        "\n",
        "# Exemplo de uso\n",
        "historico = HistoricoNavegacao()\n",
        "historico.visitar_pagina(\"www.exemplo.com\")\n",
        "historico.visitar_pagina(\"www.python.org\")\n",
        "historico.visitar_pagina(\"www.google.com\")\n",
        "historico.voltar()\n",
        "historico.avancar()\n",
        "historico.voltar()\n",
        "historico.voltar()\n",
        "historico.voltar()\n",
        "historico.avancar()"
      ],
      "metadata": {
        "colab": {
          "base_uri": "https://localhost:8080/",
          "height": 192
        },
        "id": "Gi95JNHJ6wRo",
        "outputId": "32c7f15b-51b6-4179-a387-1a0611a8c1e0"
      },
      "execution_count": null,
      "outputs": [
        {
          "output_type": "stream",
          "name": "stdout",
          "text": [
            "Visitando: www.exemplo.com\n",
            "Visitando: www.python.org\n",
            "Visitando: www.google.com\n",
            "Voltando para: www.python.org\n",
            "Avançando para: www.google.com\n",
            "Voltando para: www.python.org\n",
            "Voltando para: www.exemplo.com\n",
            "Não há página anterior.\n",
            "Avançando para: www.python.org\n"
          ]
        },
        {
          "output_type": "execute_result",
          "data": {
            "text/plain": [
              "'www.python.org'"
            ],
            "application/vnd.google.colaboratory.intrinsic+json": {
              "type": "string"
            }
          },
          "metadata": {},
          "execution_count": 8
        }
      ]
    },
    {
      "cell_type": "markdown",
      "source": [
        "# 4. Sistema de Impressão de Documentos"
      ],
      "metadata": {
        "id": "Dod-wtpz7C0A"
      }
    },
    {
      "cell_type": "code",
      "source": [
        "class Documento:\n",
        "  def __init__(self, nome):\n",
        "    self.nome = nome\n",
        "    self.proximo = None\n",
        "\n",
        "class FilaImpressao:\n",
        "  def __init__(self):\n",
        "    self.head = None\n",
        "    self.tail = None\n",
        "\n",
        "  def adicionar_documento(self, nome):\n",
        "    novo_documento = Documento(nome)\n",
        "    if not self.head:\n",
        "      self.head = novo_documento\n",
        "      self.tail = novo_documento\n",
        "    else:\n",
        "      self.tail.proximo = novo_documento\n",
        "      self.tail = novo_documento\n",
        "    print(f\"Documento '{nome}' adicionado à fila.\")\n",
        "\n",
        "  def imprimir_documento(self):\n",
        "    if self.head:\n",
        "      documento_impresso = self.head.nome\n",
        "      self.head = self.head.proximo\n",
        "      if not self.head:\n",
        "        self.tail = None\n",
        "      print(f\"Imprimindo documento: {documento_impresso}\")\n",
        "      return documento_impresso\n",
        "    else:\n",
        "      print(\"A fila de impressão está vazia.\")\n",
        "      return None\n",
        "\n",
        "  def mostrar_fila(self):\n",
        "    atual = self.head\n",
        "    if not atual:\n",
        "      print(\"A fila de impressão está vazia.\")\n",
        "      return\n",
        "    print(\"Fila de impressão:\")\n",
        "    while atual:\n",
        "      print(f\"- {atual.nome}\")\n",
        "      atual = atual.proximo\n",
        "\n",
        "# Exemplo de uso\n",
        "fila = FilaImpressao()\n",
        "fila.adicionar_documento(\"Relatório Financeiro\")\n",
        "fila.adicionar_documento(\"Apresentação de Vendas\")\n",
        "fila.adicionar_documento(\"Contrato\")\n",
        "fila.mostrar_fila()\n",
        "fila.imprimir_documento()\n",
        "fila.mostrar_fila()\n",
        "fila.imprimir_documento()\n",
        "fila.imprimir_documento()\n",
        "fila.imprimir_documento()"
      ],
      "metadata": {
        "colab": {
          "base_uri": "https://localhost:8080/"
        },
        "id": "4oDpBnZi7DjN",
        "outputId": "3e761b6e-901e-4e1b-b056-047eb01c1acb"
      },
      "execution_count": null,
      "outputs": [
        {
          "output_type": "stream",
          "name": "stdout",
          "text": [
            "Documento 'Relatório Financeiro' adicionado à fila.\n",
            "Documento 'Apresentação de Vendas' adicionado à fila.\n",
            "Documento 'Contrato' adicionado à fila.\n",
            "Fila de impressão:\n",
            "- Relatório Financeiro\n",
            "- Apresentação de Vendas\n",
            "- Contrato\n",
            "Imprimindo documento: Relatório Financeiro\n",
            "Fila de impressão:\n",
            "- Apresentação de Vendas\n",
            "- Contrato\n",
            "Imprimindo documento: Apresentação de Vendas\n",
            "Imprimindo documento: Contrato\n",
            "A fila de impressão está vazia.\n"
          ]
        }
      ]
    },
    {
      "cell_type": "markdown",
      "source": [
        "# 5. Autocomplete em Buscas"
      ],
      "metadata": {
        "id": "IfDZfXgc7ufO"
      }
    },
    {
      "cell_type": "code",
      "source": [
        "class Node:\n",
        "  def __init__(self, data):\n",
        "    self.data = data\n",
        "    self.proximo = None\n",
        "\n",
        "class ListaEncadeadaAutocomplete:\n",
        "  def __init__(self):\n",
        "    self.head = None\n",
        "\n",
        "  def adicionar_palavra(self, palavra):\n",
        "    novo_node = Node(palavra)\n",
        "    if not self.head:\n",
        "      self.head = novo_node\n",
        "    else:\n",
        "      atual = self.head\n",
        "      while atual.proximo:\n",
        "        atual = atual.proximo\n",
        "      atual.proximo = novo_node\n",
        "\n",
        "  def sugerir_palavras(self, prefixo):\n",
        "    sugestoes = []\n",
        "    atual = self.head\n",
        "    while atual:\n",
        "      if atual.data.startswith(prefixo):\n",
        "        sugestoes.append(atual.data)\n",
        "      atual = atual.proximo\n",
        "    return sugestoes\n",
        "\n",
        "# Exemplo de uso\n",
        "autocomplete = ListaEncadeadaAutocomplete()\n",
        "autocomplete.adicionar_palavra(\"apple\")\n",
        "autocomplete.adicionar_palavra(\"apricot\")\n",
        "autocomplete.adicionar_palavra(\"banana\")\n",
        "autocomplete.adicionar_palavra(\"grape\")\n",
        "autocomplete.adicionar_palavra(\"application\")\n",
        "print(f\"Sugestões para 'ap': {autocomplete.sugerir_palavras('ap')}\")\n",
        "print(f\"Sugestões para 'ba': {autocomplete.sugerir_palavras('ba')}\")\n",
        "print(f\"Sugestões para 'g': {autocomplete.sugerir_palavras('g')}\")\n",
        "print(f\"Sugestões para 'or': {autocomplete.sugerir_palavras('or')}\")"
      ],
      "metadata": {
        "colab": {
          "base_uri": "https://localhost:8080/"
        },
        "id": "-sbPAzn27yUv",
        "outputId": "e5aad4f9-e772-4af2-9c55-9d82291ed2a3"
      },
      "execution_count": null,
      "outputs": [
        {
          "output_type": "stream",
          "name": "stdout",
          "text": [
            "Sugestões para 'ap': ['apple', 'apricot', 'application']\n",
            "Sugestões para 'ba': ['banana']\n",
            "Sugestões para 'g': ['grape']\n",
            "Sugestões para 'or': []\n"
          ]
        }
      ]
    },
    {
      "cell_type": "markdown",
      "source": [
        "##DATA:15/04/2025\n",
        "\n",
        "  # REVISÃO PROVA: 3 PROBLEMAS\n",
        "\n",
        "*   FILA\n",
        "*   PILHA\n",
        "*   LISTA\n",
        "\n",
        "\n",
        "\n",
        "\n",
        "[LISTAS ENCADEADAS]\n",
        "\n"
      ],
      "metadata": {
        "id": "f9aLCfBnmQKe"
      }
    },
    {
      "cell_type": "markdown",
      "source": [
        "LISTAS"
      ],
      "metadata": {
        "id": "71Lx3Rsn8WaG"
      }
    },
    {
      "cell_type": "code",
      "source": [
        "# Passo 1: Criando uma lista vazia para armazenar os IDs das naves alienígenas\n",
        "naves_alienigenas = []\n",
        "\n",
        "# Passo 2: Adicionando IDs de naves detectadas\n",
        "naves_alienigenas.append(\"NaveAlfa-01\")\n",
        "naves_alienigenas.append(\"NaveBeta-05\")\n",
        "naves_alienigenas.append(\"NaveGama-12\")\n",
        "print(f\"Naves alienígenas detectadas: {naves_alienigenas}\")\n",
        "\n",
        "# Passo 3: Acessando o ID da primeira nave detectada\n",
        "primeira_nave = naves_alienigenas[0]\n",
        "print(f\"A primeira nave a chegar foi: {primeira_nave}\")\n",
        "\n",
        "# Passo 4: Modificando o ID de uma nave (correção)\n",
        "naves_alienigenas[1] = \"NaveBeta-06\"\n",
        "#print(f\"Lista de naves atualizada: {naves_alienigenas}\")\n",
        "print(\"Naves alienígenas detectadas:\", naves_alienigenas)\n",
        "\n",
        "# Passo 5: Removendo uma nave que deixou a órbita\n",
        "naves_alienigenas.remove(\"NaveAlfa-01\")\n",
        "print(f\"Naves restantes: {naves_alienigenas}\")\n",
        "\n",
        "# Passo 6: Verificando quantas naves ainda estão presentes\n",
        "total_naves = len(naves_alienigenas)\n",
        "print(f\"Número total de naves na órbita: {total_naves}\")"
      ],
      "metadata": {
        "colab": {
          "base_uri": "https://localhost:8080/"
        },
        "id": "RgpxQWGYpb0X",
        "outputId": "d4da75cb-6e99-4ce2-aef2-f1e8e0fd5641"
      },
      "execution_count": null,
      "outputs": [
        {
          "output_type": "stream",
          "name": "stdout",
          "text": [
            "Naves alienígenas detectadas: ['NaveAlfa-01', 'NaveBeta-05', 'NaveGama-12']\n",
            "A primeira nave a chegar foi: NaveAlfa-01\n",
            "Naves alienígenas detectadas: ['NaveAlfa-01', 'NaveBeta-06', 'NaveGama-12']\n",
            "Naves restantes: ['NaveBeta-06', 'NaveGama-12']\n",
            "Número total de naves na órbita: 2\n"
          ]
        }
      ]
    },
    {
      "cell_type": "markdown",
      "source": [
        "FILAS"
      ],
      "metadata": {
        "id": "QgMpwryg8c0G"
      }
    },
    {
      "cell_type": "code",
      "source": [
        "from collections import deque\n",
        "\n",
        "# Passo 1: Criando uma fila vazia para as tarefas da expedição\n",
        "fila_de_tarefas = deque()\n",
        "\n",
        "# Passo 2: Adicionando tarefas à fila (enqueue)\n",
        "fila_de_tarefas.append(\"Verificar painéis solares\")\n",
        "fila_de_tarefas.append(\"Realizar experimento de gravidade\")\n",
        "fila_de_tarefas.append(\"Comunicar com a base terrestre\")\n",
        "print(f\"Fila de tarefas de expedição: {fila_de_tarefas}\")\n",
        "\n",
        "# Passo 3: Executando a próxima tarefa na fila (dequeue)\n",
        "proxima_tarefa = fila_de_tarefas.popleft()\n",
        "print(f\"Próxima tarefa a ser executada: {proxima_tarefa}\")\n",
        "print(f\"Fila de tarefas restantes: {fila_de_tarefas}\")\n",
        "\n",
        "# Passo 4: Verificando o tamanho da fila\n",
        "total_tarefas_restantes = len(fila_de_tarefas)\n",
        "print(f\"Numero de tarefas restantes: {total_tarefas_restantes}\")\n",
        "\n",
        "# Passo 5: Verificando se a fila está vazia\n",
        "if not fila_de_tarefas:\n",
        "  print(\"Todas as tarefas foram concluídas.\")\n",
        "else:\n",
        "  print(\"Ainda há tarefas pendentes.\")"
      ],
      "metadata": {
        "colab": {
          "base_uri": "https://localhost:8080/"
        },
        "id": "2tCUexYEmVX2",
        "outputId": "d4bd1491-8bbb-4b35-acff-587e5d055899"
      },
      "execution_count": null,
      "outputs": [
        {
          "output_type": "stream",
          "name": "stdout",
          "text": [
            "Fila de tarefas de expedição: deque(['Verificar painéis solares', 'Realizar experimento de gravidade', 'Comunicar com a base terrestre'])\n",
            "Próxima tarefa a ser executada: Verificar painéis solares\n",
            "Fila de tarefas restantes: deque(['Realizar experimento de gravidade', 'Comunicar com a base terrestre'])\n",
            "Numero de tarefas restantes: 2\n",
            "Ainda há tarefas pendentes.\n"
          ]
        }
      ]
    },
    {
      "cell_type": "code",
      "source": [
        "fila_de_atendimento_alienigena = deque()\n",
        "fila_de_atendimento_alienigena.append(\"Zorg\")\n",
        "fila_de_atendimento_alienigena.append(\"Gleeplorg\")\n",
        "fila_de_atendimento_alienigena.append(\"Floopy\")\n",
        "\n",
        "print(f\"Fila de atendimento alienigena: {fila_de_atendimento_alienigena}\")\n",
        "\n",
        "proximo_alienigena = fila_de_atendimento_alienigena.popleft()\n",
        "print(f\"Atendendo alienigena: {proximo_alienigena}\")\n",
        "print(f\"Fila de atendimento restante: {fila_de_atendimento_alienigena}\")"
      ],
      "metadata": {
        "colab": {
          "base_uri": "https://localhost:8080/"
        },
        "id": "TzavayzbvSRn",
        "outputId": "da02137d-0408-4b95-c099-272b529dd675"
      },
      "execution_count": null,
      "outputs": [
        {
          "output_type": "stream",
          "name": "stdout",
          "text": [
            "Fila de atendimento alienigena: deque(['Zorg', 'Gleeplorg', 'Floopy'])\n",
            "Atendendo alienigena: Zorg\n",
            "Fila de atendimento restante: deque(['Gleeplorg', 'Floopy'])\n"
          ]
        }
      ]
    },
    {
      "cell_type": "markdown",
      "source": [
        "PILHAS"
      ],
      "metadata": {
        "id": "QEZGJ3-t8o5f"
      }
    },
    {
      "cell_type": "code",
      "source": [
        "# Passo 1: Criando uma pilha vazia para as amostras coletadas\n",
        "pilha_de_amostras = []\n",
        "\n",
        "# Passo 2: Adicionando amostras à pilha (push)\n",
        "pilha_de_amostras.append(\"Amostra da Lua Europa\")\n",
        "pilha_de_amostras.append(\"Amostra do Anel de Saturno\")\n",
        "pilha_de_amostras.append(\"Amostra do Solo de Marte\")\n",
        "print(f\"Pilha de amostras coletadas: {pilha_de_amostras}\")\n",
        "\n",
        "# Passo 3: Analisando a última amostra coletada (pop)\n",
        "ultima_amostra = pilha_de_amostras.pop()\n",
        "print(f\"Analisando a amostra: {ultima_amostra}\")\n",
        "print(f\"Pilha de amostras restante: {pilha_de_amostras}\")\n",
        "\n",
        "# Passo 4: Verificando o tamanho da pilha\n",
        "total_amostras_restantes = len(pilha_de_amostras)\n",
        "print(f\"Número de amostras restantes: {total_amostras_restantes}\")\n",
        "\n",
        "# Passo 5: Verificando se a pilha está vazia\n",
        "if not pilha_de_amostras:\n",
        "  print(\"Todas as amostras foram analisadas!\")\n",
        "else:\n",
        "  print(\"Ainda há amostras para analisar.\")"
      ],
      "metadata": {
        "colab": {
          "base_uri": "https://localhost:8080/"
        },
        "id": "AgJpPxqEw_H_",
        "outputId": "4d0abb0c-3da8-42bb-d353-1de467e06411"
      },
      "execution_count": null,
      "outputs": [
        {
          "output_type": "stream",
          "name": "stdout",
          "text": [
            "Pilha de amostras coletadas: ['Amostra da Lua Europa', 'Amostra do Anel de Saturno', 'Amostra do Solo de Marte']\n",
            "Analisando a amostra: Amostra do Solo de Marte\n",
            "Pilha de amostras restante: ['Amostra da Lua Europa', 'Amostra do Anel de Saturno']\n",
            "Número de amostras restantes: 2\n",
            "Ainda há amostras para analisar.\n"
          ]
        }
      ]
    },
    {
      "cell_type": "markdown",
      "source": [
        "DIA:22/04/2025\n",
        "\n",
        "## Meu Exemplo de Atividade Prática: Explorando Pilhas, Filas e Listas em Yu-Gi-Oh!\n"
      ],
      "metadata": {
        "id": "M6iPiozao2cq"
      }
    },
    {
      "cell_type": "markdown",
      "source": [
        "##🎴 Tema 1: O Baralho de Cartas do Duelista (Listas)\n",
        "\n",
        "Em uma sala secreta, os duelistas organizam suas cartas raras conforme a ordem em que são encontradas."
      ],
      "metadata": {
        "id": "mpzWjqmc0k7j"
      }
    },
    {
      "cell_type": "code",
      "source": [
        "# Cria uma lista vazia e faz a chamada do arquivo\n",
        "arquivo = []\n",
        "\n",
        "# Adiciona 3 cartas ao final da lista\n",
        "arquivo += [\"Dragão Branco\", \"Mago Negro\", \"Exodia\"]\n",
        "\n",
        "# Mostra todas as cartas no arquivo\n",
        "print(\"Arquivo:\", arquivo)\n",
        "\n",
        "# Mostra a carta na posição 1 (segunda carta)\n",
        "print(\"Carta posição 1:\", arquivo[1])\n",
        "\n",
        "# Remove a carta \"Mago Negro\" da lista\n",
        "arquivo.remove(\"Mago Negro\")\n",
        "\n",
        "# Verifica se \"Exodia\" ainda está no arquivo\n",
        "print(\"Exodia está no arquivo?\", \"Exodia\" in arquivo)"
      ],
      "metadata": {
        "colab": {
          "base_uri": "https://localhost:8080/"
        },
        "id": "xuKIm7DzpZTy",
        "outputId": "a60d62a6-1eed-4daa-f508-bc7fef644efb"
      },
      "execution_count": null,
      "outputs": [
        {
          "output_type": "stream",
          "name": "stdout",
          "text": [
            "Arquivo: ['Dragão Branco', 'Mago Negro', 'Exodia']\n",
            "Carta posição 1: Mago Negro\n",
            "Exodia está no arquivo? True\n"
          ]
        }
      ]
    },
    {
      "cell_type": "markdown",
      "source": [
        "##🧝 Tema 2: A Fila da Batalha de Duelo (Filas)\n",
        "No torneio de batalha de yu-gi-oh, os duelistas aguardam na ordem de chegada para enfrentarem Yugi."
      ],
      "metadata": {
        "id": "vVc1viK90Tq8"
      }
    },
    {
      "cell_type": "code",
      "source": [
        "# Importa deque para criar uma fila\n",
        "from collections import deque\n",
        "\n",
        "# Cria a fila com os duelistas\n",
        "fila = deque([\"Kaiba\", \"Joey\", \"Mai\"])\n",
        "\n",
        "# Mostra a ordem atual da fila\n",
        "print(\"Fila:\", list(fila))\n",
        "\n",
        "# Remove e mostra o primeiro duelista da fila\n",
        "print(\"Próximo duelo:\", fila.popleft())\n",
        "\n",
        "# Verifica se ainda restam duelistas na fila\n",
        "print(\"Restam duelistas?\", len(fila) > 0)\n",
        "\n",
        "# Processa e mostra os duelistas restantes\n",
        "while fila:\n",
        "    print(\"Duelando:\", fila.popleft())"
      ],
      "metadata": {
        "colab": {
          "base_uri": "https://localhost:8080/"
        },
        "id": "bSd1Dp89qKfR",
        "outputId": "57bb763f-e902-4f71-d8ab-443d529feff1"
      },
      "execution_count": null,
      "outputs": [
        {
          "output_type": "stream",
          "name": "stdout",
          "text": [
            "Fila: ['Kaiba', 'Joey', 'Mai']\n",
            "Próximo duelo: Kaiba\n",
            "Restam duelistas? True\n",
            "Duelando: Joey\n",
            "Duelando: Mai\n"
          ]
        }
      ]
    },
    {
      "cell_type": "markdown",
      "source": [
        "##🔮 Tema 3: A Torre dos Cards Proibidos (Pilhas)\n",
        "Os cards mais poderosos são armazenados sempre numa torre secreta. O último card adicionado é o primeiro a ser usado.\n"
      ],
      "metadata": {
        "id": "6n2wQ6LU0KeX"
      }
    },
    {
      "cell_type": "code",
      "source": [
        "# Cria a pilha com 3 cards (o topo é o último)\n",
        "pilha = [\"Cartas do Destino\", \"Portão Negro\", \"Força Espelho\"]\n",
        "\n",
        "# Mostra a pilha de cards\n",
        "print(\"Torre:\", pilha)\n",
        "\n",
        "# Remove e mostra o card do topo\n",
        "print(\"Card usado:\", pilha.pop())\n",
        "\n",
        "# Verifica se ainda há cards na pilha\n",
        "print(\"Ainda tem cards?\", len(pilha) > 0)\n",
        "\n",
        "# Mostra os cards restantes na pilha\n",
        "print(\"Torre restante:\", pilha)\n",
        "\n",
        "# Usa os cards restantes um por um\n",
        "while pilha:\n",
        "    print(\"Usando:\", pilha.pop())"
      ],
      "metadata": {
        "colab": {
          "base_uri": "https://localhost:8080/"
        },
        "id": "R1cd8ikPqfgb",
        "outputId": "8a9b843d-180f-406d-a09e-08db69b8e561"
      },
      "execution_count": null,
      "outputs": [
        {
          "output_type": "stream",
          "name": "stdout",
          "text": [
            "Torre: ['Cartas do Destino', 'Portão Negro', 'Força Espelho']\n",
            "Card usado: Força Espelho\n",
            "Ainda tem cards? True\n",
            "Torre restante: ['Cartas do Destino', 'Portão Negro']\n",
            "Usando: Portão Negro\n",
            "Usando: Cartas do Destino\n"
          ]
        }
      ]
    },
    {
      "cell_type": "markdown",
      "source": [
        "TENTANDO ENTENDER\n",
        "\n",
        "## 🧠 O que são Pilhas, Filas e Listas?\n",
        "\n",
        "Essas três estruturas são **formas diferentes de organizar dados na memória**, e são **muito usadas na programação e na vida real**.\n",
        "\n",
        "---\n",
        "\n",
        "### ✅ **Listas** – \"Como um caderno de anotações\"\n",
        "\n",
        "- **O que é?** Uma lista é **como uma folha de papel onde você escreve coisas uma após a outra**, na ordem que quiser.\n",
        "- **O que dá pra fazer?**\n",
        "  - Adicionar um item no final (como escrever mais uma linha).\n",
        "  - Ver o que está em uma posição específica (ler a linha 2, por exemplo).\n",
        "  - Remover um item (apagar uma anotação).\n",
        "  - Ver se algo está na lista.\n",
        "\n",
        "📘 **Exemplo do Yu-Gi-Oh!**: Um duelista guarda as cartas que encontra numa lista. Pode ver qual é a segunda carta, remover uma que não quer mais, ou ver se ainda tem a \"Exodia\".\n",
        "\n",
        "---\n",
        "\n",
        "### ✅ **Filas** – \"Como uma fila de pessoas no banco\"\n",
        "\n",
        "- **O que é?** Uma fila funciona com a lógica **primeiro a entrar, primeiro a sair** (em inglês, FIFO – *First In, First Out*).\n",
        "- **O que dá pra fazer?**\n",
        "  - Adicionar alguém no fim da fila.\n",
        "  - Atender (ou remover) quem está na frente da fila.\n",
        "  - Ver se ainda tem alguém esperando.\n",
        "\n",
        "👥 **Exemplo do Yu-Gi-Oh!**: Os duelistas entram na fila pra duelar com Yugi. O primeiro que chegou é o primeiro que luta.\n",
        "\n",
        "---\n",
        "\n",
        "### ✅ **Pilhas** – \"Como uma pilha de pratos\"\n",
        "\n",
        "- **O que é?** Uma pilha funciona com a lógica **último a entrar, primeiro a sair** (em inglês, LIFO – *Last In, First Out*).\n",
        "- **O que dá pra fazer?**\n",
        "  - Empilhar (colocar algo no topo).\n",
        "  - Desempilhar (pegar o que está no topo).\n",
        "  - Ver se a pilha ainda tem itens.\n",
        "\n",
        "🍽️ **Exemplo do Yu-Gi-Oh!**: Os magos colocam cards mágicos em uma torre. O último card colocado é o primeiro que será usado no duelo.\n",
        "\n",
        "---\n",
        "\n",
        "## 🔑 Resumo Super Simples\n",
        "\n",
        "| Estrutura | Exemplo real          | Ordem de Ação      | Palavra-chave |\n",
        "|-----------|------------------------|---------------------|----------------|\n",
        "| Lista     | Anotações num caderno | Acesso livre        | Organização   |\n",
        "| Fila      | Fila de banco         | Primeiro entra, sai primeiro | Espera        |\n",
        "| Pilha     | Pilha de pratos       | Último entra, sai primeiro   | Ação reversa  |\n"
      ],
      "metadata": {
        "id": "DKpyaHZs1yIf"
      }
    }
  ]
}